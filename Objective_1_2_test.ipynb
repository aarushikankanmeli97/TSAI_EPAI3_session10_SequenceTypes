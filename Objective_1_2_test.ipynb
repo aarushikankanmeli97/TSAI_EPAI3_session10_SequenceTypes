{
 "cells": [
  {
   "cell_type": "markdown",
   "id": "efdd75b8",
   "metadata": {},
   "source": [
    "### Import the modules and packages"
   ]
  },
  {
   "cell_type": "code",
   "execution_count": 1,
   "id": "c4a1f33b",
   "metadata": {},
   "outputs": [],
   "source": [
    "from math import *\n",
    "from Objective1 import *\n",
    "from Objective2 import *"
   ]
  },
  {
   "cell_type": "markdown",
   "id": "fb70dea5",
   "metadata": {},
   "source": [
    "### Create the object of class Polygon"
   ]
  },
  {
   "cell_type": "code",
   "execution_count": 2,
   "id": "35d4c7d9",
   "metadata": {},
   "outputs": [],
   "source": [
    "p1 = Polygon(3,4)\n",
    "p2 = Polygon(3,4)"
   ]
  },
  {
   "cell_type": "markdown",
   "id": "ac6dc1ab",
   "metadata": {},
   "source": [
    "### Test the properties of Objective1"
   ]
  },
  {
   "cell_type": "code",
   "execution_count": 3,
   "id": "4eeeeba6",
   "metadata": {},
   "outputs": [
    {
     "name": "stdout",
     "output_type": "stream",
     "text": [
      "Interior Angle : -117.0\n",
      "Edge Length : 6.928203230275509\n",
      "Apothem : 2.0000000000000004\n",
      "Area : 20.78460969082653\n",
      "Peri : 20.784609690826528\n",
      "Description : This class represents Polygonal class which takes in variables num edges,circumradius and gives properties number of edges, number of vertices, interior angle, edge length, apothem, area and perimeter\n",
      "Equality check : True\n",
      "Greater check : False\n"
     ]
    }
   ],
   "source": [
    "print(f'Interior Angle : {p1.interior_angle()}\\n'\n",
    "      f'Edge Length : {p1.edge_length()}\\n'\n",
    "      f'Apothem : {p1.Apothem()}\\n'\n",
    "      f'Area : {p1.Area()}\\n'\n",
    "      f'Peri : {p1.Peri()}\\n'\n",
    "      f'Description : {p1.__repr__()}\\n'\n",
    "      f'Equality check : {p1==p2}\\n'\n",
    "      f'Greater check : {p1>p2}')"
   ]
  },
  {
   "cell_type": "markdown",
   "id": "25cd7c6f",
   "metadata": {},
   "source": [
    "### Test the Properties of Objective2"
   ]
  },
  {
   "cell_type": "code",
   "execution_count": 4,
   "id": "6b6d088d",
   "metadata": {},
   "outputs": [],
   "source": [
    "pol_seq = Polygon_sequence(5,6)"
   ]
  },
  {
   "cell_type": "code",
   "execution_count": 5,
   "id": "da59c356",
   "metadata": {},
   "outputs": [
    {
     "ename": "ValueError",
     "evalue": "Edge value less than 3",
     "output_type": "error",
     "traceback": [
      "\u001b[0;31m---------------------------------------------------------------------------\u001b[0m",
      "\u001b[0;31mValueError\u001b[0m                                Traceback (most recent call last)",
      "\u001b[0;32m<ipython-input-5-aa1cb476e12f>\u001b[0m in \u001b[0;36m<module>\u001b[0;34m\u001b[0m\n\u001b[0;32m----> 1\u001b[0;31m \u001b[0mpol_seq\u001b[0m \u001b[0;34m=\u001b[0m \u001b[0mPolygon_sequence\u001b[0m\u001b[0;34m(\u001b[0m\u001b[0;36m2\u001b[0m\u001b[0;34m,\u001b[0m\u001b[0;36m6\u001b[0m\u001b[0;34m)\u001b[0m \u001b[0;31m# Raises error as the number of edges given is less than 3\u001b[0m\u001b[0;34m\u001b[0m\u001b[0;34m\u001b[0m\u001b[0m\n\u001b[0m",
      "\u001b[0;32m~/Desktop/TSAI/EPAI3.0/TSAI_EPAI3_session10_SequenceTypes/Objective2.py\u001b[0m in \u001b[0;36m__init__\u001b[0;34m(self, n, R)\u001b[0m\n\u001b[1;32m      7\u001b[0m         \u001b[0mself\u001b[0m\u001b[0;34m.\u001b[0m\u001b[0mR\u001b[0m \u001b[0;34m=\u001b[0m \u001b[0mR\u001b[0m\u001b[0;34m\u001b[0m\u001b[0;34m\u001b[0m\u001b[0m\n\u001b[1;32m      8\u001b[0m         \u001b[0;32mif\u001b[0m \u001b[0mself\u001b[0m\u001b[0;34m.\u001b[0m\u001b[0mn\u001b[0m \u001b[0;34m<\u001b[0m \u001b[0;36m3\u001b[0m\u001b[0;34m:\u001b[0m\u001b[0;34m\u001b[0m\u001b[0;34m\u001b[0m\u001b[0m\n\u001b[0;32m----> 9\u001b[0;31m             \u001b[0;32mraise\u001b[0m \u001b[0mValueError\u001b[0m \u001b[0;34m(\u001b[0m\u001b[0;34m\"Edge value less than 3\"\u001b[0m\u001b[0;34m)\u001b[0m\u001b[0;34m\u001b[0m\u001b[0;34m\u001b[0m\u001b[0m\n\u001b[0m\u001b[1;32m     10\u001b[0m         \u001b[0mself\u001b[0m\u001b[0;34m.\u001b[0m\u001b[0mpolygon\u001b[0m \u001b[0;34m=\u001b[0m \u001b[0;34m[\u001b[0m\u001b[0mPolygon\u001b[0m\u001b[0;34m(\u001b[0m\u001b[0;34m(\u001b[0m\u001b[0mi\u001b[0m\u001b[0;34m)\u001b[0m\u001b[0;34m,\u001b[0m\u001b[0mR\u001b[0m\u001b[0;34m)\u001b[0m \u001b[0;32mfor\u001b[0m \u001b[0mi\u001b[0m \u001b[0;32min\u001b[0m \u001b[0mrange\u001b[0m\u001b[0;34m(\u001b[0m\u001b[0;36m3\u001b[0m\u001b[0;34m,\u001b[0m\u001b[0mself\u001b[0m\u001b[0;34m.\u001b[0m\u001b[0mn\u001b[0m\u001b[0;34m+\u001b[0m\u001b[0;36m1\u001b[0m\u001b[0;34m)\u001b[0m\u001b[0;34m]\u001b[0m\u001b[0;34m\u001b[0m\u001b[0;34m\u001b[0m\u001b[0m\n\u001b[1;32m     11\u001b[0m         \u001b[0mself\u001b[0m\u001b[0;34m.\u001b[0m\u001b[0mmax_effiency_polygon\u001b[0m \u001b[0;34m=\u001b[0m \u001b[0mself\u001b[0m\u001b[0;34m.\u001b[0m\u001b[0mMax_Eff_Pol\u001b[0m\u001b[0;34m(\u001b[0m\u001b[0;34m)\u001b[0m\u001b[0;34m\u001b[0m\u001b[0;34m\u001b[0m\u001b[0m\n",
      "\u001b[0;31mValueError\u001b[0m: Edge value less than 3"
     ]
    }
   ],
   "source": [
    "pol_seq = Polygon_sequence(2,6) # Raises error as the number of edges given is less than 3"
   ]
  },
  {
   "cell_type": "code",
   "execution_count": 6,
   "id": "022f2853",
   "metadata": {},
   "outputs": [],
   "source": [
    "pol_seq = Polygon_sequence(5,6)"
   ]
  },
  {
   "cell_type": "code",
   "execution_count": 7,
   "id": "74ecb711",
   "metadata": {},
   "outputs": [
    {
     "data": {
      "text/plain": [
       "'Polygon sequence of 3 polygons'"
      ]
     },
     "execution_count": 7,
     "metadata": {},
     "output_type": "execute_result"
    }
   ],
   "source": [
    "pol_seq.__repr__()"
   ]
  },
  {
   "cell_type": "code",
   "execution_count": 8,
   "id": "b0032335",
   "metadata": {},
   "outputs": [
    {
     "data": {
      "text/plain": [
       "3"
      ]
     },
     "execution_count": 8,
     "metadata": {},
     "output_type": "execute_result"
    }
   ],
   "source": [
    "pol_seq.__len__()"
   ]
  },
  {
   "cell_type": "code",
   "execution_count": null,
   "id": "837bfcfa",
   "metadata": {},
   "outputs": [],
   "source": []
  }
 ],
 "metadata": {
  "kernelspec": {
   "display_name": "Python 3",
   "language": "python",
   "name": "python3"
  },
  "language_info": {
   "codemirror_mode": {
    "name": "ipython",
    "version": 3
   },
   "file_extension": ".py",
   "mimetype": "text/x-python",
   "name": "python",
   "nbconvert_exporter": "python",
   "pygments_lexer": "ipython3",
   "version": "3.6.9"
  }
 },
 "nbformat": 4,
 "nbformat_minor": 5
}
